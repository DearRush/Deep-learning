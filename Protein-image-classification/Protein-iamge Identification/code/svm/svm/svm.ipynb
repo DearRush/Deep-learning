{
 "cells": [
  {
   "cell_type": "code",
   "execution_count": 4,
   "id": "045ea96e-5602-400a-84e2-6504ef7db0be",
   "metadata": {},
   "outputs": [
    {
     "data": {
      "image/png": "[encoded data removed]",
      "text/plain": [
       "<Figure size 432x288 with 1 Axes>"
      ]
     },
     "metadata": {
      "needs_background": "light"
     },
     "output_type": "display_data"
    }
   ],
   "source": [
    "# data from https://allisonhorst.github.io/palmerpenguins/\n",
    "\n",
    "import matplotlib.pyplot as plt\n",
    "import numpy as np\n",
    "\n",
    "species = (\"SVM\", \"CNN\", \"VGG16\",\"ResNet18\")\n",
    "penguin_means = {\n",
    "    'Train': (83, 56, 90,93),\n",
    "    'Validation': (80, 53, 85,87),\n",
    "    'Test': (82, 52, 86,86),\n",
    "}\n",
    "\n",
    "x = np.arange(len(species))  # the label locations\n",
    "width = 0.20  # the width of the bars\n",
    "multiplier = 0\n",
    "\n",
    "fig, ax = plt.subplots(layout='constrained')\n",
    "\n",
    "for attribute, measurement in penguin_means.items():\n",
    "    offset = width * multiplier\n",
    "    rects = ax.bar(x + offset, measurement, width, label=attribute)\n",
    "    ax.bar_label(rects, padding=3)\n",
    "    multiplier += 1\n",
    "\n",
    "# Add some text for labels, title and custom x-axis tick labels, etc.\n",
    "ax.set_ylabel('Accuracy(%)')\n",
    "ax.set_title('Accuracy of Different Models')\n",
    "ax.set_xticks(x + width, species)\n",
    "ax.legend(loc='upper left')\n",
    "ax.set_ylim(40, 100)\n",
    "\n",
    "plt.show()"
   ]
  },
  {
   "cell_type": "code",
   "execution_count": null,
   "id": "d3349298-4fa3-45ce-8895-e04ba08f5b5e",
   "metadata": {},
   "outputs": [],
   "source": [
    "#import sys \n",
    "#import os\n",
    "\n",
    "#os.system(\"pause\")\n",
    "\n",
    "#Svm 训练：\n",
    "import sys\n",
    "import os\n",
    "import cv2\n",
    "import numpy as np\n",
    "import re\n",
    "\n",
    "from sklearn.svm import SVC\n",
    "from sklearn.model_selection import train_test_split\n",
    "import time\n",
    "import pickle"
   ]
  },
  {
   "cell_type": "code",
   "execution_count": null,
   "id": "40a7f395-2b91-497e-8b98-5f701b81c6bb",
   "metadata": {},
   "outputs": [],
   "source": [
    "# train set\n",
    "train_feature_list = list()\n",
    "train_label_list   = list()\n",
    "train_tmpt_list    = list()\n",
    "\n",
    "readfile1 = open('/Users/wangsuran/Desktop/data/TrainLabel.txt','r')\n",
    "while True:\n",
    "    line = readfile1.readline().strip() \n",
    "    if line:\n",
    "        train_tmpt_list.append(line) #将顺序的label临时放在list中\n",
    "    else:\n",
    "        break\n",
    "readfile1.close()"
   ]
  },
  {
   "cell_type": "code",
   "execution_count": null,
   "id": "caf8b547-27cc-42bd-80d7-6e0d87f8b5ce",
   "metadata": {},
   "outputs": [],
   "source": [
    "SHAPE = (30, 30)\n",
    "def extractFeaturesFromImage(image_file):\n",
    "    img = cv2.imread(image_file)\n",
    "    img = cv2.resize(img, SHAPE, interpolation = cv2.INTER_CUBIC)\n",
    "    img = img.flatten()\n",
    "    img = img / np.mean(img)\n",
    "    return img\n",
    "\n",
    "regex=re.compile(r'\\d+')  # 抓取第几个图片 \n",
    "  \n",
    "train_images = os.listdir(\"/Users/wangsuran/Desktop/data/train_img\")\n",
    "for image in train_images:\n",
    "    i = int(regex.findall(image)[0]) # 抓取第i个图片\n",
    "    train_label_list.append(train_tmpt_list[i-1])  # 在label list里放入正确的label\n",
    "    train_feature_list.append(extractFeaturesFromImage(\"/Users/wangsuran/Desktop/data/train_img/\" + image))\n",
    "print(\"ok\")"
   ]
  },
  {
   "cell_type": "code",
   "execution_count": null,
   "id": "f5366b83-3b50-4b6f-a1b7-d08916d48c57",
   "metadata": {},
   "outputs": [],
   "source": [
    "# test set\n",
    "test_feature_list = list()\n",
    "test_label_list   = list()\n",
    "test_tmpt_list    = list()\n",
    "\n",
    "readfile2 = open('/Users/wangsuran/Desktop/data/TestLabel.txt','r')\n",
    "while True:\n",
    "    line = readfile2.readline().strip() \n",
    "    if line:\n",
    "        test_tmpt_list.append(line) #将顺序的label临时放在list中\n",
    "    else:\n",
    "        break\n",
    "readfile2.close()"
   ]
  },
  {
   "cell_type": "code",
   "execution_count": null,
   "id": "5a1314c2-5915-4440-bdce-ad4083e46f4a",
   "metadata": {},
   "outputs": [],
   "source": [
    "test_images = os.listdir(\"/Users/wangsuran/Desktop/data/test_img\")\n",
    "for image in test_images:\n",
    "    i = int(regex.findall(image)[0])# 抓取第i个图片\n",
    "    test_label_list.append(test_tmpt_list[i-1])  # 在label list里放入正确的label\n",
    "    test_feature_list.append(extractFeaturesFromImage(\"/Users/wangsuran/Desktop/data/test_img/\" + image))\n",
    "print(\"ok\")"
   ]
  },
  {
   "cell_type": "code",
   "execution_count": null,
   "id": "6e438e6a-39ec-44d3-8dc3-98807c150bc7",
   "metadata": {},
   "outputs": [],
   "source": [
    "# whole train set\n",
    "'''\n",
    "if os.path.isfile(\"svm_model.pkl\"):\n",
    "        svm = pickle.load(open(\"/Users/wangsuran/Desktop/svm_model.pkl\", \"rb\"))\n",
    "else:\n",
    "        svm = SVC(kernel='rbf',gamma=0.001)\n",
    "        svm.fit(train_feature_list, train_label_list)\n",
    "        pickle.dump(svm, open(\"/Users/wangsuran/Desktop/svm_model.pkl\", \"wb\"))\n",
    "print(\"ok\")\n",
    "'''"
   ]
  },
  {
   "cell_type": "code",
   "execution_count": null,
   "id": "79d1fe5e-0c96-4a5e-9873-1567e968d21c",
   "metadata": {},
   "outputs": [],
   "source": [
    "# demo\n",
    "import time\n",
    "demo_feature_list = train_feature_list[:5000]\n",
    "demo_label_list   = train_label_list[:5000]\n",
    "\n",
    "#if os.path.isfile(\"svm_model.pkl\"):\n",
    "        #svm = pickle.load(open(\"/Users/wangsuran/Desktop/svm_model.pkl\", \"rb\"))\n",
    "#else:\n",
    "\n",
    "# build svm model\n",
    "start = time.clock()  \n",
    "\n",
    "svm = SVC(kernel='rbf',gamma=0.001)\n",
    "svm.fit(demo_feature_list, demo_label_list)\n",
    "pickle.dump(svm, open(\"/Users/wangsuran/Desktop/svm_model.pkl\", \"wb\"))\n",
    "print(\"model is ready\")\n",
    "\n",
    "middle = time.clock()\n",
    "\n",
    "# accuracy rate calculate\n",
    "right = 0\n",
    "total = 0\n",
    "for x, y in zip(test_feature_list, test_label_list):\n",
    "    x = x.reshape(1, -1)\n",
    "    prediction = svm.predict(x)[0]\n",
    "    if y == prediction:\n",
    "        right += 1\n",
    "    total += 1\n",
    "\n",
    "accuracy = float(right) / float(total)*100\n",
    "\n",
    "end = time.clock()\n",
    "\n",
    "print(total)\n",
    "print(right)\n",
    "print (\"accuracy:\" + str(accuracy) + \"%\")\n",
    "print(\"success\")\n",
    "\n",
    "print(\"model time:\",middle-start,\"s\")\n",
    "print(\"test time:\",end-middle,\"s\")"
   ]
  },
  {
   "cell_type": "code",
   "execution_count": null,
   "id": "36a79b4e-048f-4c0d-9aea-ac32ec41d61d",
   "metadata": {},
   "outputs": [],
   "source": [
    "### Result ###\n",
    "# 5000 png\n",
    "# model time: 188.27204500000062 s \n",
    "# test time: 282.9460919999992 s \n",
    "# Accuracy Rate:49.144%\n",
    "# Right Prediction:6143\n",
    "\n",
    "# 10000 png\n",
    "# model time:613.5925 s = 10min\n",
    "# test time:460.297464 s = 7min\n",
    "# Accuracy Rate:53.703999999%\n",
    "# Right Prediction:6713/12500\n",
    "\n",
    "# 30000 png\n",
    "# model time: 4377.415004 s = 73min\n",
    "# test time: 1516.1060749999997 s = 25min\n",
    "# Accuracy Rate:60.136%\n",
    "# Right Prediction:7517/12500\n",
    "\n",
    "# 65000 png\n",
    "# model time: 568min\n",
    "# test time: 67min\n",
    "# Accuracy Rate:82.658%\n",
    "# Right Prediction:10375/12500"
   ]
  }
 ],
 "metadata": {
  "kernelspec": {
   "display_name": "Python 3 (ipykernel)",
   "language": "python",
   "name": "python3"
  },
  "language_info": {
   "codemirror_mode": {
    "name": "ipython",
    "version": 3
   },
   "file_extension": ".py",
   "mimetype": "text/x-python",
   "name": "python",
   "nbconvert_exporter": "python",
   "pygments_lexer": "ipython3",
   "version": "3.9.12"
  }
 },
 "nbformat": 4,
 "nbformat_minor": 5
}
