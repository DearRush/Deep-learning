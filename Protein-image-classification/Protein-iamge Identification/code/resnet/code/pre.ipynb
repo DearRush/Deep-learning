{
 "cells": [
  {
   "cell_type": "code",
   "execution_count": 7,
   "metadata": {
    "collapsed": true,
    "pycharm": {
     "name": "#%%\n"
    }
   },
   "outputs": [],
   "source": [
    "import shutil\n",
    "import os\n",
    "\n",
    "def classify_data(txt_path,labels):\n",
    "    fh = open(txt_path, 'r', encoding='utf-8')\n",
    "    lines = fh.readlines()\n",
    "    cnt=0\n",
    "    for line in lines:\n",
    "        line = line.strip('\\n')  # 移除字符串首尾的换行符\n",
    "        line = line.rstrip()  # 删除末尾空\n",
    "        words = line.split()  # 以空格为分隔符 将字符串分成两部分\n",
    "        imgs_name = words[0]  # imgs中包含有图像路径和标签\n",
    "        src_path=\"E:/大三下/生物大数据分析/project/6-E3_data/6-E3_data/train_img\"\n",
    "        srcfile = src_path+'/'+imgs_name\n",
    "        imgs_label = int(words[1])\n",
    "        target_pth=\"E:/大三下/生物大数据分析/project/data/train/\"\n",
    "        # shutil.copy(srcfile, target_pth+labels[imgs_label])\n",
    "        # cnt+=1\n",
    "        for root, dirs, files in os.walk(src_path):\n",
    "            for filename in files:\n",
    "                if imgs_name == filename:\n",
    "                  shutil.copy(srcfile, target_pth+labels[imgs_label])\n",
    "                  cnt+=1\n",
    "                  break\n",
    "                # else:\n",
    "                #   print(imgs_name+' not found!')\n",
    "\n",
    "    print(\"Copy files Successfully!\")\n",
    "    print(cnt)"
   ]
  },
  {
   "cell_type": "code",
   "execution_count": 8,
   "outputs": [],
   "source": [
    "import shutil\n",
    "import os\n",
    "# 创建文件夹\n",
    "label = [\"0\", \"1\", \"2\", \"3\", \"4\", \"5\", \"6\", \"7\",\"8\",\"9\",\"10\",\"11\"]\n",
    "for i in label:\n",
    "        os.mkdir(\"E:/大三下/生物大数据分析/project/data/train/\"+i)"
   ],
   "metadata": {
    "collapsed": false,
    "pycharm": {
     "name": "#%%\n"
    }
   }
  },
  {
   "cell_type": "code",
   "execution_count": 9,
   "outputs": [
    {
     "name": "stdout",
     "output_type": "stream",
     "text": [
      "Copy files Successfully!\n",
      "65000\n"
     ]
    }
   ],
   "source": [
    "label = [\"0\", \"1\", \"2\", \"3\", \"4\", \"5\", \"6\", \"7\",\"8\",\"9\",\"10\",\"11\"]\n",
    "classify_data('E:/大三下/生物大数据分析/project/6-E3_data/6-E3_data/train_labels.txt',label)"
   ],
   "metadata": {
    "collapsed": false,
    "pycharm": {
     "name": "#%%\n"
    }
   }
  },
  {
   "cell_type": "code",
   "execution_count": 10,
   "outputs": [],
   "source": [
    "from PIL import Image\n",
    "from torchvision import transforms\n",
    "\n",
    "img = Image.open('E:/大三下/生物大数据分析/project/data/train/0/Train_1.png')"
   ],
   "metadata": {
    "collapsed": false,
    "pycharm": {
     "name": "#%%\n"
    }
   }
  },
  {
   "cell_type": "code",
   "execution_count": 11,
   "outputs": [
    {
     "name": "stdout",
     "output_type": "stream",
     "text": [
      "<PIL.PngImagePlugin.PngImageFile image mode=RGB size=64x64 at 0x21AAECCC550>\n"
     ]
    }
   ],
   "source": [
    "print(img)"
   ],
   "metadata": {
    "collapsed": false,
    "pycharm": {
     "name": "#%%\n"
    }
   }
  },
  {
   "cell_type": "code",
   "execution_count": null,
   "outputs": [],
   "source": [],
   "metadata": {
    "collapsed": false,
    "pycharm": {
     "name": "#%%\n"
    }
   }
  }
 ],
 "metadata": {
  "kernelspec": {
   "display_name": "Python 3",
   "language": "python",
   "name": "python3"
  },
  "language_info": {
   "codemirror_mode": {
    "name": "ipython",
    "version": 2
   },
   "file_extension": ".py",
   "mimetype": "text/x-python",
   "name": "python",
   "nbconvert_exporter": "python",
   "pygments_lexer": "ipython2",
   "version": "2.7.6"
  }
 },
 "nbformat": 4,
 "nbformat_minor": 0
}