{
 "cells": [
  {
   "cell_type": "code",
   "execution_count": null,
   "outputs": [],
   "source": [],
   "metadata": {
    "collapsed": false,
    "pycharm": {
     "name": "#%%\n"
    }
   }
  },
  {
   "cell_type": "code",
   "execution_count": 5,
   "metadata": {
    "collapsed": true,
    "pycharm": {
     "name": "#%%\n"
    }
   },
   "outputs": [],
   "source": [
    "import torch.optim as optim\n",
    "import torch\n",
    "import torch.nn as nn\n",
    "import torch.nn.parallel\n",
    "import torch.optim\n",
    "import torch.utils.data\n",
    "import torch.utils.data.distributed\n",
    "import torchvision.transforms as transforms\n",
    "import torchvision.datasets as datasets\n",
    "import torchvision.models\n",
    "# from effnetv2 import effnetv2_s\n",
    "from torch.autograd import Variable\n",
    "from torch.utils.tensorboard import SummaryWriter\n",
    "\n",
    "# 设置全局参数\n",
    "modellr = 1e-4\n",
    "BATCH_SIZE = 32\n",
    "EPOCHS = 1\n",
    "DEVICE = torch.device('cuda' if torch.cuda.is_available() else 'cpu')"
   ]
  },
  {
   "cell_type": "code",
   "execution_count": 5,
   "outputs": [],
   "source": [],
   "metadata": {
    "collapsed": false,
    "pycharm": {
     "name": "#%%\n"
    }
   }
  },
  {
   "cell_type": "code",
   "execution_count": 6,
   "outputs": [],
   "source": [
    "# 数据预处理\n",
    "transform = transforms.Compose([\n",
    "    transforms.Resize((224, 224)),\n",
    "    transforms.ToTensor(),\n",
    "    transforms.Normalize([0.5, 0.5, 0.5], [0.5, 0.5, 0.5])\n",
    "\n",
    "])\n",
    "transform_test = transforms.Compose([\n",
    "    transforms.Resize((224, 224)),\n",
    "    transforms.ToTensor(),\n",
    "    transforms.Normalize([0.5, 0.5, 0.5], [0.5, 0.5, 0.5])\n",
    "])"
   ],
   "metadata": {
    "collapsed": false,
    "pycharm": {
     "name": "#%%\n"
    }
   }
  },
  {
   "cell_type": "code",
   "execution_count": 7,
   "outputs": [],
   "source": [
    "# 读取数据\n",
    "dataset_train = datasets.ImageFolder('../data/train', transform)\n",
    "# print(dataset_train.imgs)\n",
    "# 对应文件夹的label\n",
    "# print(dataset_train.class_to_idx)\n",
    "dataset_val = datasets.ImageFolder('../data/val', transform_test)\n",
    "# 对应文件夹的label\n",
    "# print(dataset_test.class_to_idx)\n",
    "dataset_test = datasets.ImageFolder('../data/test', transform_test)\n",
    "# 导入数据\n",
    "train_loader = torch.utils.data.DataLoader(dataset_train, batch_size=BATCH_SIZE, shuffle=True)\n",
    "test_loader = torch.utils.data.DataLoader(dataset_test, batch_size=BATCH_SIZE, shuffle=False)\n",
    "val_loader = torch.utils.data.DataLoader(dataset_val,\n",
    " batch_size=BATCH_SIZE, shuffle=False)"
   ],
   "metadata": {
    "collapsed": false,
    "pycharm": {
     "name": "#%%\n"
    }
   }
  },
  {
   "cell_type": "code",
   "execution_count": 8,
   "outputs": [],
   "source": [
    "# 实例化模型并且移动到GPU\n",
    "criterion = nn.CrossEntropyLoss()\n",
    "model = torchvision.models.resnet18(pretrained=True)\n",
    "num_ftrs = model.fc.in_features\n",
    "model.fc = nn.Linear(num_ftrs, 12)\n",
    "model.to(DEVICE)\n",
    "# 选择简单暴力的Adam优化器，学习率调低\n",
    "optimizer = optim.Adam(model.parameters(), lr=modellr)\n",
    "\n",
    "\n",
    "def adjust_learning_rate(optimizer, epoch):\n",
    "    \"\"\"Sets the learning rate to the initial LR decayed by 10 every 30 epochs\"\"\"\n",
    "    modellrnew = modellr * (0.1 ** (epoch // 50))\n",
    "    print(\"lr:\", modellrnew)\n",
    "    for param_group in optimizer.param_groups:\n",
    "        param_group['lr'] = modellrnew"
   ],
   "metadata": {
    "collapsed": false,
    "pycharm": {
     "name": "#%%\n"
    }
   }
  },
  {
   "cell_type": "code",
   "execution_count": 9,
   "outputs": [
    {
     "name": "stdout",
     "output_type": "stream",
     "text": [
      "lr: 0.0001\n",
      "65000 2032\n",
      "Train Epoch: 1 [1600/65000 (2%)]\tLoss: 0.635715\n",
      "Train Epoch: 1 [3200/65000 (5%)]\tLoss: 0.544492\n",
      "Train Epoch: 1 [4800/65000 (7%)]\tLoss: 0.448718\n",
      "Train Epoch: 1 [6400/65000 (10%)]\tLoss: 0.801663\n",
      "Train Epoch: 1 [8000/65000 (12%)]\tLoss: 0.344649\n",
      "Train Epoch: 1 [9600/65000 (15%)]\tLoss: 0.332533\n",
      "Train Epoch: 1 [11200/65000 (17%)]\tLoss: 0.302140\n",
      "Train Epoch: 1 [12800/65000 (20%)]\tLoss: 0.259712\n",
      "Train Epoch: 1 [14400/65000 (22%)]\tLoss: 0.229060\n",
      "Train Epoch: 1 [16000/65000 (25%)]\tLoss: 0.252308\n",
      "Train Epoch: 1 [17600/65000 (27%)]\tLoss: 0.245694\n",
      "Train Epoch: 1 [19200/65000 (30%)]\tLoss: 0.198829\n",
      "Train Epoch: 1 [20800/65000 (32%)]\tLoss: 0.176436\n",
      "Train Epoch: 1 [22400/65000 (34%)]\tLoss: 0.263124\n",
      "Train Epoch: 1 [24000/65000 (37%)]\tLoss: 0.263623\n",
      "Train Epoch: 1 [25600/65000 (39%)]\tLoss: 0.263773\n",
      "Train Epoch: 1 [27200/65000 (42%)]\tLoss: 0.174454\n",
      "Train Epoch: 1 [28800/65000 (44%)]\tLoss: 0.152239\n",
      "Train Epoch: 1 [30400/65000 (47%)]\tLoss: 0.146688\n",
      "Train Epoch: 1 [32000/65000 (49%)]\tLoss: 0.115750\n",
      "Train Epoch: 1 [33600/65000 (52%)]\tLoss: 0.423756\n",
      "Train Epoch: 1 [35200/65000 (54%)]\tLoss: 0.361221\n",
      "Train Epoch: 1 [36800/65000 (57%)]\tLoss: 0.141565\n",
      "Train Epoch: 1 [38400/65000 (59%)]\tLoss: 0.247075\n",
      "Train Epoch: 1 [40000/65000 (62%)]\tLoss: 0.366438\n",
      "Train Epoch: 1 [41600/65000 (64%)]\tLoss: 0.305128\n",
      "Train Epoch: 1 [43200/65000 (66%)]\tLoss: 0.312162\n",
      "Train Epoch: 1 [44800/65000 (69%)]\tLoss: 0.256597\n",
      "Train Epoch: 1 [46400/65000 (71%)]\tLoss: 0.373210\n",
      "Train Epoch: 1 [48000/65000 (74%)]\tLoss: 0.373253\n",
      "Train Epoch: 1 [49600/65000 (76%)]\tLoss: 0.227121\n",
      "Train Epoch: 1 [51200/65000 (79%)]\tLoss: 0.672384\n",
      "Train Epoch: 1 [52800/65000 (81%)]\tLoss: 0.194073\n",
      "Train Epoch: 1 [54400/65000 (84%)]\tLoss: 0.604144\n",
      "Train Epoch: 1 [56000/65000 (86%)]\tLoss: 0.507916\n",
      "Train Epoch: 1 [57600/65000 (89%)]\tLoss: 0.384770\n",
      "Train Epoch: 1 [59200/65000 (91%)]\tLoss: 0.159581\n",
      "Train Epoch: 1 [60800/65000 (94%)]\tLoss: 0.570303\n",
      "Train Epoch: 1 [62400/65000 (96%)]\tLoss: 0.370533\n",
      "Train Epoch: 1 [64000/65000 (98%)]\tLoss: 0.145761\n",
      "epoch:1,loss:0.3850568887157967\n",
      "12500 391\n",
      "\n",
      "Val set: Average loss: 0.4243, Accuracy: 10788/12500 (86%)\n",
      "\n"
     ]
    }
   ],
   "source": [
    "# 定义训练过程\n",
    "writer = SummaryWriter(\"E:/大三下/生物大数据分析/project/code/train_log0617\")\n",
    "def train(model, device, train_loader, optimizer, epoch):\n",
    "    model.train()\n",
    "    sum_loss = 0\n",
    "    total_num = len(train_loader.dataset)\n",
    "    print(total_num, len(train_loader))\n",
    "    for batch_idx, (data, target) in enumerate(train_loader):\n",
    "        data, target = Variable(data).to(device), Variable(target).to(device)\n",
    "        output = model(data)\n",
    "        loss = criterion(output, target)\n",
    "        optimizer.zero_grad()\n",
    "        loss.backward()\n",
    "        optimizer.step()\n",
    "        print_loss = loss.data.item()\n",
    "        sum_loss += print_loss\n",
    "        if (batch_idx + 1) % 50 == 0:\n",
    "            print('Train Epoch: {} [{}/{} ({:.0f}%)]\\tLoss: {:.6f}'.format(\n",
    "                epoch, (batch_idx + 1) * len(data), len(train_loader.dataset),\n",
    "                       100. * (batch_idx + 1) / len(train_loader), loss.item()))\n",
    "            writer.add_scalar('Train_loss', loss.item(), epoch)\n",
    "    ave_loss = sum_loss / len(train_loader)\n",
    "    print('epoch:{},loss:{}'.format(epoch, ave_loss))\n",
    "    writer.close()\n",
    "\n",
    "def val(model, device, test_loader):\n",
    "    model.eval()\n",
    "    test_loss = 0\n",
    "    correct = 0\n",
    "    total_num = len(test_loader.dataset)\n",
    "    print(total_num, len(test_loader))\n",
    "    with torch.no_grad():\n",
    "        for data, target in test_loader:\n",
    "            data, target = Variable(data).to(device), Variable(target).to(device)\n",
    "            output = model(data)\n",
    "            loss = criterion(output, target)\n",
    "            _, pred = torch.max(output.data, 1)\n",
    "            correct += torch.sum(pred == target)\n",
    "            print_loss = loss.data.item()\n",
    "            test_loss += print_loss\n",
    "        correct = correct.data.item()\n",
    "        acc = correct / total_num\n",
    "        avgloss = test_loss / len(test_loader)\n",
    "        print('\\nVal set: Average loss: {:.4f}, Accuracy: {}/{} ({:.0f}%)\\n'.format(\n",
    "            avgloss, correct, len(test_loader.dataset), 100 * acc))\n",
    "\n",
    "\n",
    "# 训练\n",
    "\n",
    "for epoch in range(1, EPOCHS + 1):\n",
    "    adjust_learning_rate(optimizer, epoch)\n",
    "    train(model, DEVICE, train_loader, optimizer, epoch)\n",
    "    val(model, DEVICE, test_loader)\n",
    "torch.save(model, 'model.pth')"
   ],
   "metadata": {
    "collapsed": false,
    "pycharm": {
     "name": "#%%\n"
    }
   }
  },
  {
   "cell_type": "code",
   "execution_count": 35,
   "outputs": [
    {
     "name": "stdout",
     "output_type": "stream",
     "text": [
      "12500 391\n",
      "\n",
      "Val set: Average loss: 0.4108, Accuracy: 10849/12500 (87%)\n",
      "\n"
     ]
    }
   ],
   "source": [
    "#原图片 84%\n",
    "#resize 87%\n",
    "#nopretrain 75%\n",
    "val(model, DEVICE, val_loader)"
   ],
   "metadata": {
    "collapsed": false,
    "pycharm": {
     "name": "#%%\n"
    }
   }
  },
  {
   "cell_type": "markdown",
   "source": [],
   "metadata": {
    "collapsed": false,
    "pycharm": {
     "name": "#%% md\n"
    }
   }
  },
  {
   "cell_type": "code",
   "execution_count": 11,
   "outputs": [
    {
     "name": "stdout",
     "output_type": "stream",
     "text": [
      "12500 391\n",
      "\n",
      "Val set: Average loss: 0.4243, Accuracy: 10788/12500 (86%)\n",
      "\n"
     ]
    }
   ],
   "source": [
    "val(model, DEVICE, test_loader)"
   ],
   "metadata": {
    "collapsed": false,
    "pycharm": {
     "name": "#%%\n"
    }
   }
  },
  {
   "cell_type": "code",
   "execution_count": 12,
   "outputs": [
    {
     "name": "stdout",
     "output_type": "stream",
     "text": [
      "65000 2032\n",
      "\n",
      "Val set: Average loss: 0.2206, Accuracy: 60191/65000 (93%)\n",
      "\n"
     ]
    }
   ],
   "source": [
    "val(model, DEVICE, train_loader)"
   ],
   "metadata": {
    "collapsed": false,
    "pycharm": {
     "name": "#%%\n"
    }
   }
  },
  {
   "cell_type": "code",
   "execution_count": null,
   "outputs": [],
   "source": [],
   "metadata": {
    "collapsed": false,
    "pycharm": {
     "name": "#%%\n"
    }
   }
  }
 ],
 "metadata": {
  "kernelspec": {
   "display_name": "Python 3",
   "language": "python",
   "name": "python3"
  },
  "language_info": {
   "codemirror_mode": {
    "name": "ipython",
    "version": 2
   },
   "file_extension": ".py",
   "mimetype": "text/x-python",
   "name": "python",
   "nbconvert_exporter": "python",
   "pygments_lexer": "ipython2",
   "version": "2.7.6"
  }
 },
 "nbformat": 4,
 "nbformat_minor": 0
}